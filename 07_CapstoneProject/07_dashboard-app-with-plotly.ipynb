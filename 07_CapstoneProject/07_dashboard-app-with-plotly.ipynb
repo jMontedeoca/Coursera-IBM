{
 "cells": [
  {
   "attachments": {},
   "cell_type": "markdown",
   "metadata": {},
   "source": [
    "# **Build a Dashboard Application with Plotly Dash**"
   ]
  },
  {
   "attachments": {},
   "cell_type": "markdown",
   "metadata": {},
   "source": [
    "In this lab, you will be building a Plotly Dash application for users to perform interactive visual analytics on SpaceX launch data in\n",
    "real-time.\n",
    "\n",
    "This dashboard application contains input components such as a dropdown list and a range slider to\n",
    "interact with a pie chart and a scatter point chart. You will be guided to build this dashboard application via the following tasks:\n",
    "\n",
    "- **TASK 1:** Add a Launch Site Drop-down Input Component\n",
    "- **TASK 2:** Add a callback function to render `success-pie-chart` based on selected site dropdown\n",
    "- **TASK 3:** Add a Range Slider to Select Payload\n",
    "- **TASK 4:** Add a callback function to render the `success-payload-scatter-chart` scatter plot"
   ]
  },
  {
   "attachments": {},
   "cell_type": "markdown",
   "metadata": {},
   "source": [
    "**Note:Please take screenshots of the Dashboard and save them. Further upload your notebook to github.**\n",
    "\n",
    "**The github url and the screenshots are later required in the presentation slides.**"
   ]
  },
  {
   "attachments": {},
   "cell_type": "markdown",
   "metadata": {},
   "source": [
    "Your completed dashboard application should look like the following screenshot:"
   ]
  },
  {
   "attachments": {},
   "cell_type": "markdown",
   "metadata": {},
   "source": [
    "<center>\n",
    "    <img src=https://cf-courses-data.s3.us.cloud-object-storage.appdomain.cloud/IBM-DS0321EN-SkillsNetwork/labs/module_3/images/dash_completed.PNG>\n",
    "<\\center>"
   ]
  },
  {
   "attachments": {},
   "cell_type": "markdown",
   "metadata": {},
   "source": [
    "After visual analysis using the dashboard, you should be able to obtain some insights to answer the following five questions:\n",
    "\n",
    "1. Which site has the largest successful launches?\n",
    "2. Which site has the highest launch success rate?\n",
    "3. Which payload range(s) has the highest launch success rate?\n",
    "4. Which payload range(s) has the lowest launch success rate?\n",
    "5. Which F9 Booster version (``v1.0``, ``v1.1``, ``FT``, ``B4``, ``B5``, etc.) has the highest launch success rate?\n",
    "\n",
    "\n",
    "**Estimated time needed:** 90 minutes"
   ]
  },
  {
   "attachments": {},
   "cell_type": "markdown",
   "metadata": {},
   "source": [
    "### **Download a skeleton dashboard application and dataset**"
   ]
  },
  {
   "attachments": {},
   "cell_type": "markdown",
   "metadata": {},
   "source": [
    "First, let’s get the SpaceX Launch dataset for this lab:\n",
    "\n",
    "- Run the following wget command line in the terminal to download dataset as ``spacex_launch_dash.csv``"
   ]
  },
  {
   "cell_type": "code",
   "execution_count": null,
   "metadata": {},
   "outputs": [],
   "source": [
    "!wget \"https://cf-courses-data.s3.us.cloud-object-storage.appdomain.cloud/IBM-DS0321EN-SkillsNetwork/datasets/spacex_launch_dash.csv\""
   ]
  },
  {
   "attachments": {},
   "cell_type": "markdown",
   "metadata": {},
   "source": [
    "- Download a skeleton Dash app to be completed in this lab:"
   ]
  },
  {
   "cell_type": "code",
   "execution_count": null,
   "metadata": {},
   "outputs": [],
   "source": [
    "!wget \"https://cf-courses-data.s3.us.cloud-object-storage.appdomain.cloud/IBM-DS0321EN-SkillsNetwork/labs/module_3/spacex_dash_app.py\""
   ]
  },
  {
   "attachments": {},
   "cell_type": "markdown",
   "metadata": {},
   "source": [
    "- Test the skeleton app by running the following command in the terminal:"
   ]
  },
  {
   "cell_type": "raw",
   "metadata": {},
   "source": [
    "python spacex_dash_app.py"
   ]
  },
  {
   "attachments": {},
   "cell_type": "markdown",
   "metadata": {},
   "source": [
    "- You should see a nearly blank web page indicating a successfully running dash app.\n",
    "Next, let’s fill the skeleton app with required input/output components and callback functions."
   ]
  },
  {
   "attachments": {},
   "cell_type": "markdown",
   "metadata": {},
   "source": [
    "If you need to refresh your memory about Plotly Dash components and callback functions,\n",
    "you may refer to the lab you have learned before:\n",
    "\n",
    "[Plotly Dash Lab](https://cf-courses-data.s3.us.cloud-object-storage.appdomain.cloud/IBMDeveloperSkillsNetwork-DV0101EN-SkillsNetwork/labs/Module%204/4.7_Dash_Interactivity.py)"
   ]
  },
  {
   "attachments": {},
   "cell_type": "markdown",
   "metadata": {},
   "source": [
    "### **TASK 1: Add a Launch Site Drop-down Input Component**"
   ]
  },
  {
   "attachments": {},
   "cell_type": "markdown",
   "metadata": {},
   "source": [
    "We have four different launch sites and we would like to first see which one has the largest success count. Then,\n",
    "we would like to select one specific site and check its detailed success rate (class=0 vs. class=1).\n",
    "\n",
    "As such, we will need a dropdown menu to let us select different launch sites.\n",
    "\n",
    "- Find and complete a commented ``dcc.Dropdown(id='site-dropdown',...)`` input with following attributes:\n",
    "    - ``id`` attribute with value ``site-dropdown``\n",
    "    - ``options`` attribute is a list of dict-like option objects (with ``label`` and ``value`` attributes). You can set the ``label`` and ``value`` all to be the launch site names in the ``spacex_df`` and you need to include the default All option. e.g.,\n",
    "    \n",
    "    ```\n",
    "    options=[{'label': 'All Sites', 'value': 'ALL'},{'label':'site1', 'value': 'site1'}, ...]\n",
    "    ```\n",
    "\n",
    "    - ``value`` attribute with default dropdown value to be ``ALL`` meaning all sites are selected\n",
    "    - ``placeholder`` attribute to show a text description about this input area, such as ``Select a Launch Site here``\n",
    "    - ``searchable`` attribute to be True so we can enter keywords to search launch sites\n"
   ]
  },
  {
   "attachments": {},
   "cell_type": "markdown",
   "metadata": {},
   "source": [
    "Here is an example of ``dcc.Dropdown``:\n",
    "\n"
   ]
  },
  {
   "attachments": {},
   "cell_type": "raw",
   "metadata": {},
   "source": [
    "dcc.Dropdown(id='id',\n",
    "                options=[\n",
    "                    {'label': 'All Sites', 'value': 'ALL'},\n",
    "                    {'label': 'site1', 'value': 'site1'},\n",
    "                ],\n",
    "                value='ALL',\n",
    "                placeholder=\"place holder here\",\n",
    "                searchable=True\n",
    "                ),"
   ]
  },
  {
   "attachments": {},
   "cell_type": "markdown",
   "metadata": {},
   "source": [
    "If you need more help about ``Dropdown()``, refer to the ``Plotly Dash Reference`` section towards\n",
    "the end of this lab.\n",
    "\n",
    "Your completed dropdown menu should look like the following screenshot:"
   ]
  },
  {
   "attachments": {},
   "cell_type": "markdown",
   "metadata": {},
   "source": [
    "<center>\n",
    "    <img src=https://cf-courses-data.s3.us.cloud-object-storage.appdomain.cloud/IBM-DS0321EN-SkillsNetwork/labs/module_3/images/site-dropdown.PNG>\n",
    "</center>"
   ]
  },
  {
   "attachments": {},
   "cell_type": "markdown",
   "metadata": {},
   "source": [
    "### **TASK 2: Add a callback function to render ``success-pie-chart`` based on selected site dropdown**"
   ]
  },
  {
   "attachments": {},
   "cell_type": "markdown",
   "metadata": {},
   "source": [
    "The general idea of this callback function is to get the selected launch site from ``site-dropdown`` and render\n",
    "a pie chart visualizing launch success counts.\n",
    "\n",
    "Dash callback function is a type of Python function which will be automatically called by\n",
    "Dash whenever receiving an input component updates, such as a click or dropdown selecting event.\n",
    "\n",
    "If you need to refresh your memory about Plotly Dash callback functions,\n",
    "you may refer to the lab you have learned before:"
   ]
  },
  {
   "attachments": {},
   "cell_type": "markdown",
   "metadata": {},
   "source": [
    "[Plotly Dash Lab](https://cf-courses-data.s3.us.cloud-object-storage.appdomain.cloud/IBMDeveloperSkillsNetwork-DV0101EN-SkillsNetwork/labs/Module%204/4.7_Dash_Interactivity.py)"
   ]
  },
  {
   "attachments": {},
   "cell_type": "markdown",
   "metadata": {},
   "source": [
    "Let’s add a callback function in ``spacex_dash_app.py`` including the following application logic:\n",
    "\n",
    "- Input is set to be the ``site-dropdown`` dropdown, i.e., ``Input(component_id='site-dropdown', component_property='value')``\n",
    "- Output to be the graph with id ``success-pie-chart``, i.e., ``Output(component_id='success-pie-chart', component_property='figure')``\n",
    "- A ``If-Else`` statement to check if ALL sites were selected or just a specific launch site was selected\n",
    "    - If ALL sites are selected, we will use all rows in the dataframe ``spacex_df`` to render and return a pie chart graph to show the total success launches (i.e., the total count of ``class`` column)\n",
    "    - If a specific launch site is selected, you need to filter the dataframe ``spacex_df`` first in order to include the only data for the selected site.\n",
    "    Then, render and return a pie chart graph to show the success (``class=1``) count and failed (``class=0``) count for the selected site.\n",
    "\n",
    "Here is an example of a callback function:\n"
   ]
  },
  {
   "cell_type": "raw",
   "metadata": {},
   "source": [
    "# Function decorator to specify function input and output\n",
    "@app.callback(Output(component_id='success-pie-chart', component_property='figure'),\n",
    "              Input(component_id='site-dropdown', component_property='value'))\n",
    "def get_pie_chart(entered_site):\n",
    "    filtered_df = spacex_df\n",
    "    if entered_site == 'ALL':\n",
    "        fig = px.pie(data, values='class', \n",
    "        names='pie chart names', \n",
    "        title='title')\n",
    "        return fig\n",
    "    else:\n",
    "        # return the outcomes piechart for a selected site"
   ]
  },
  {
   "attachments": {},
   "cell_type": "markdown",
   "metadata": {},
   "source": [
    "The rendered pie chart should look like the following screenshots:\n",
    "- Pie chart for all sites are selected\n",
    "    <center>\n",
    "    <img src=https://cf-courses-data.s3.us.cloud-object-storage.appdomain.cloud/IBM-DS0321EN-SkillsNetwork/labs/module_3/images/pie-chart-all.PNG>\n",
    "    </center>\n",
    "\n",
    "- Pie chart for is selected\n",
    "    <center>\n",
    "    <img src=https://cf-courses-data.s3.us.cloud-object-storage.appdomain.cloud/IBM-DS0321EN-SkillsNetwork/labs/module_3/images/pie-chart-one.PNG>\n",
    "    </center>\n",
    "\n",
    "If you need more reference about dash callbacks and plotly pie charts, refer to the ``Plotly Dash Reference`` section towards\n",
    "the end of this lab."
   ]
  },
  {
   "attachments": {},
   "cell_type": "markdown",
   "metadata": {},
   "source": [
    "### **TASK 3: Add a Range Slider to Select Payload**"
   ]
  },
  {
   "attachments": {},
   "cell_type": "markdown",
   "metadata": {},
   "source": [
    "Next, we want to find if variable payload is correlated to mission outcome. From a dashboard point of view, we want to be able to easily select different payload range and see if we can identify some visual patterns.\n",
    "\n",
    "Find and complete a commented ``dcc.RangeSlider(id='payload-slider',...)`` input with the following attribute:\n",
    "\n",
    "- ``id`` to be ``payload-slider``\n",
    "- ``min`` indicating the slider starting point, we set its value to be 0 (Kg)\n",
    "- ``max`` indicating the slider ending point to, we set its value to be 10000 (Kg)\n",
    "- ``step`` indicating the slider interval on the slider, we set its value to be 1000 (Kg)\n",
    "- ``value`` indicating the current selected range, we could set it to be ``min_payload`` and ``max_payload``\n",
    "\n",
    "Here is an example of ``RangeSlider``:"
   ]
  },
  {
   "cell_type": "raw",
   "metadata": {},
   "source": [
    "dcc.RangeSlider(id='id',\n",
    "                min=0, max=10000, step=1000,\n",
    "                marks={0: '0',\n",
    "                       100: '100'},\n",
    "                value=[min_value, max_value])"
   ]
  },
  {
   "attachments": {},
   "cell_type": "markdown",
   "metadata": {},
   "source": [
    "You completed payload range slider should be similar the following screenshot:\n",
    "\n",
    "<center>\n",
    "<img src=https://cf-courses-data.s3.us.cloud-object-storage.appdomain.cloud/IBM-DS0321EN-SkillsNetwork/labs/module_3/images/range-slider.PNG>\n",
    "</center>\n",
    "\n",
    "If you need more reference about range slider, refer to the ``Plotly Dash Reference`` towards\n",
    "the end of this lab."
   ]
  },
  {
   "attachments": {},
   "cell_type": "markdown",
   "metadata": {},
   "source": [
    "### **TASK 4: Add a callback function to render the ``success-payload-scatter-chart`` scatter plot**"
   ]
  },
  {
   "attachments": {},
   "cell_type": "markdown",
   "metadata": {},
   "source": [
    "Next, we want to plot a scatter plot with the x axis to be the payload and the y axis to be the launch outcome (i.e., ``class`` column).\n",
    "As such, we can visually observe how payload may be correlated with mission outcomes for selected site(s).\n",
    "\n",
    "In addition, we want to color-label the Booster version on each scatter point so that we may\n",
    "observe mission outcomes with different boosters.\n",
    "\n",
    "Now, let’s add a call function including the following application logic:\n",
    "\n",
    "- Input to be ``[Input(component_id='site-dropdown', component_property='value'), Input (component_id=\"payload-slider\", component_property=\"value\")]``\n",
    "Note that we have two input components, one to receive selected launch site and another to receive selected payload range\n",
    "- Output to be ``Output(component_id='success-payload-scatter-chart', component_property='figure')``\n",
    "- A ``If-Else`` statement to check if ALL sites were selected or just a specific launch site was selected\n",
    "    - If ALL sites are selected, render a scatter plot to display all values for variable ``Payload Mass (kg)`` and variable ``class``.\n",
    "    In addition, the point color needs to be set to the booster version i.e., ``color=\"Booster Version Category\"``\n",
    "    - If a specific launch site is selected, you need to filter the ``spacex_df`` first, and render a scatter chart to show values ``Payload Mass (kg)`` and ``class`` for the selected site, and color-label the point using ``Boosster Version Category`` likewise."
   ]
  },
  {
   "attachments": {},
   "cell_type": "markdown",
   "metadata": {},
   "source": [
    "You rendered scatter point should look like the following screenshot:\n",
    "\n",
    "<center>\n",
    "<img src=https://cf-courses-data.s3.us.cloud-object-storage.appdomain.cloud/IBM-DS0321EN-SkillsNetwork/labs/module_3/images/scatter-point.PNG>\n",
    "</center>\n",
    "\n",
    "If you need more reference about dash callbacks and plotly scatter plots, refer to the ``Plotly Dash Reference`` towards the end of this lab."
   ]
  },
  {
   "attachments": {},
   "cell_type": "markdown",
   "metadata": {},
   "source": [
    "### **Finding Insights Visually**"
   ]
  },
  {
   "attachments": {},
   "cell_type": "markdown",
   "metadata": {},
   "source": [
    "Now with the dashboard completed, you should be able to use it to analyze SpaceX launch data, and answer the following questions:\n",
    "\n",
    "1. Which site has the largest successful launches?\n",
    "2. Which site has the highest launch success rate?\n",
    "3. Which payload range(s) has the highest launch success rate?\n",
    "4. Which payload range(s) has the lowest launch success rate?\n",
    "5. Which F9 Booster version (``v1.0``, ``v1.1``, ``FT``, ``B4``, ``B5``, etc.) has the highest launch success rate?"
   ]
  },
  {
   "attachments": {},
   "cell_type": "markdown",
   "metadata": {},
   "source": [
    "### **Plotly Dash Reference**"
   ]
  },
  {
   "attachments": {},
   "cell_type": "markdown",
   "metadata": {},
   "source": [
    "##### **Dropdown (input) component**\n",
    "Refer [here](https://dash.plotly.com/dash-core-components/dropdown?utm_medium=Exinfluencer&utm_source=Exinfluencer&utm_content=000026UJ&utm_term=10006555&utm_id=NA-SkillsNetwork-Channel-SkillsNetworkCoursesIBMDS0321ENSkillsNetwork865-2023-01-01) for more details about ``dcc.Dropdown()``\n",
    "\n",
    "##### **Range slider (input) component**\n",
    "Refer [here](https://dash.plotly.com/dash-core-components/rangeslider?utm_medium=Exinfluencer&utm_source=Exinfluencer&utm_content=000026UJ&utm_term=10006555&utm_id=NA-SkillsNetwork-Channel-SkillsNetworkCoursesIBMDS0321ENSkillsNetwork865-2023-01-01) for more details about ``dcc.RangeSlider()``\n",
    "\n",
    "##### **Pie chart (output) component**\n",
    "Refer [here](https://plotly.com/python/pie-charts/?utm_medium=Exinfluencer&utm_source=Exinfluencer&utm_content=000026UJ&utm_term=10006555&utm_id=NA-SkillsNetwork-Channel-SkillsNetworkCoursesIBMDS0321ENSkillsNetwork865-2023-01-01) for more details about plotly pie charts\n",
    "\n",
    "##### **Scatter chart (output) component**\n",
    "Refer [here](https://plotly.com/python/line-and-scatter/?utm_medium=Exinfluencer&utm_source=Exinfluencer&utm_content=000026UJ&utm_term=10006555&utm_id=NA-SkillsNetwork-Channel-SkillsNetworkCoursesIBMDS0321ENSkillsNetwork865-2023-01-01) for more details about plotly scatter charts"
   ]
  },
  {
   "attachments": {},
   "cell_type": "markdown",
   "metadata": {},
   "source": [
    "### **Changelog**"
   ]
  },
  {
   "attachments": {},
   "cell_type": "markdown",
   "metadata": {},
   "source": [
    "|Date|\tVersion|\tChanged by|\tChange Description|\n",
    "|-|-|-|-|\n",
    "|20-09-2022|\t1.3|\tLakshmi Holla|\tUpdated screenshot.|\n",
    "|29-08-2022|\t1.2|\tLakshmi Holla|\tUpdated screenshot.|\n",
    "|03-09-2021|\t1.1|\tLakshmi Holla|\tAdded a note.|\n",
    "|06-01-2021|\t1.0|\tYan|\tInitial version created|\n"
   ]
  }
 ],
 "metadata": {
  "kernelspec": {
   "display_name": "Python 3",
   "language": "python",
   "name": "python3"
  },
  "language_info": {
   "codemirror_mode": {
    "name": "ipython",
    "version": 3
   },
   "file_extension": ".py",
   "mimetype": "text/x-python",
   "name": "python",
   "nbconvert_exporter": "python",
   "pygments_lexer": "ipython3",
   "version": "3.9.13"
  },
  "orig_nbformat": 4
 },
 "nbformat": 4,
 "nbformat_minor": 2
}
