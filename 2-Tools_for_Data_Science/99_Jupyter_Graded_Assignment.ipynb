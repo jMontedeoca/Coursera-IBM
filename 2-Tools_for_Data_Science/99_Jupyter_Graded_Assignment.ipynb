{
 "cells": [
  {
   "cell_type": "markdown",
   "id": "2f396e0f-44c0-43ab-9e89-fef139cc80af",
   "metadata": {},
   "source": [
    "# My Jupyter Notebook on IBM Watson Studio"
   ]
  },
  {
   "cell_type": "markdown",
   "id": "3fba12d4-63b9-4377-b98f-38f8179a23bb",
   "metadata": {},
   "source": [
    "**Jose Montedeoca**\n",
    "\n",
    "Currently I am an automation engineer working for the automotive sector.\n",
    "The aim of taking this course is to find a position in the healthcare-related data science industry.\n"
   ]
  },
  {
   "cell_type": "markdown",
   "id": "e7073409-34b5-4384-a8ff-d4e8419b60ba",
   "metadata": {},
   "source": [
    "*I'm taking this course because I want to contribute in the global population's capability to anticipate diseases before they manifest.*\n",
    "\n",
    "*And data science might make this happen!*"
   ]
  },
  {
   "cell_type": "markdown",
   "id": "ae2b0d14-7870-4b1a-9b60-4bfe56b8824b",
   "metadata": {},
   "source": [
    "### Code to flip randomly a coin"
   ]
  },
  {
   "cell_type": "code",
   "execution_count": 12,
   "id": "6a7f5685-2bea-41d1-8dbf-77a28a976785",
   "metadata": {},
   "outputs": [
    {
     "data": {
      "text/plain": [
       "'Head'"
      ]
     },
     "execution_count": 12,
     "metadata": {},
     "output_type": "execute_result"
    }
   ],
   "source": [
    "from random import choice\n",
    "\n",
    "choice(['Head','Tails'])"
   ]
  },
  {
   "cell_type": "markdown",
   "id": "fbd96d39-7be5-404a-a3e7-6ed89aeb63c2",
   "metadata": {},
   "source": [
    "---\n",
    "\n",
    "And at this point, you may be wondering, *\"How do I flip a coin in real life?\"* It is very simple:\n",
    " \n",
    " 1. Take a coin\n",
    " 2. Use your thumb to throw it into the air\n",
    " 3. Wait until it lands\n",
    " 4. Check the value\n",
    "\n",
    "If you want to know more about it, visit Wikipedia clicking [here](https://github.com/adam-p/markdown-here/wiki/Markdown-Cheatsheet) "
   ]
  }
 ],
 "metadata": {
  "kernelspec": {
   "display_name": "Python 3 (ipykernel)",
   "language": "python",
   "name": "python3"
  },
  "language_info": {
   "codemirror_mode": {
    "name": "ipython",
    "version": 3
   },
   "file_extension": ".py",
   "mimetype": "text/x-python",
   "name": "python",
   "nbconvert_exporter": "python",
   "pygments_lexer": "ipython3",
   "version": "3.9.12"
  }
 },
 "nbformat": 4,
 "nbformat_minor": 5
}
